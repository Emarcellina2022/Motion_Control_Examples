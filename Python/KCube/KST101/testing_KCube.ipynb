{
 "cells": [
  {
   "cell_type": "code",
   "execution_count": 1,
   "metadata": {},
   "outputs": [],
   "source": [
    "\"\"\"An example that uses the .NET Kinesis Libraries to connect to a KDC.\"\"\"\n",
    "import os\n",
    "import time\n",
    "import sys\n",
    "import pythonnet\n",
    "import clr\n",
    "import math\n",
    "\n",
    "# Add References to .NET libraries\n",
    "clr.AddReference(\"C:\\\\Program Files\\\\Thorlabs\\\\Kinesis\\\\Thorlabs.MotionControl.DeviceManagerCLI.dll\")\n",
    "clr.AddReference(\"C:\\\\Program Files\\\\Thorlabs\\\\Kinesis\\\\Thorlabs.MotionControl.GenericMotorCLI.dll\")\n",
    "clr.AddReference(\"C:\\\\Program Files\\\\Thorlabs\\\\Kinesis\\\\ThorLabs.MotionControl.KCube.StepperMotorCLI.dll\")\n",
    "from Thorlabs.MotionControl.DeviceManagerCLI import *\n",
    "from Thorlabs.MotionControl.GenericMotorCLI import *\n",
    "from Thorlabs.MotionControl.KCube.StepperMotorCLI import *\n",
    "from System import Decimal  # necessary for real world units\n"
   ]
  },
  {
   "cell_type": "code",
   "execution_count": 2,
   "metadata": {},
   "outputs": [],
   "source": [
    "def InitialiseKCube():\n",
    "    \"\"\"The main entry point for the application\"\"\"\n",
    "\n",
    "    # Uncomment this line if you are using\n",
    "    # SimulationManager.Instance.InitializeSimulations()\n",
    "\n",
    "    try:\n",
    "\n",
    "        DeviceManagerCLI.BuildDeviceList()\n",
    "\n",
    "        # create new device\n",
    "        serial_no = \"26004167\"  # Replace this line with your device's serial number\n",
    "        device = KCubeStepper.CreateKCubeStepper(serial_no)\n",
    "\n",
    "        # Connect\n",
    "        device.Connect(serial_no)\n",
    "        time.sleep(0.25)  # wait statements are important to allow settings to be sent to the device\n",
    "\n",
    "        # Get Device Information and display description\n",
    "        device_info = device.GetDeviceInfo()\n",
    "        print(device_info.Description)\n",
    "\n",
    "        # Start polling and enable\n",
    "        device.StartPolling(250)  #250ms polling rate\n",
    "        time.sleep(25)\n",
    "        device.EnableDevice()\n",
    "        time.sleep(0.25)  # Wait for device to enable\n",
    "\n",
    "        # Configure device#\n",
    "        use_file_settings = DeviceConfiguration.DeviceSettingsUseOptionType.UseFileSettings\n",
    "        device_config = device.LoadMotorConfiguration(device.DeviceID, use_file_settings)\n",
    "        # Get homing settings\n",
    "        home_params = device.GetHomingParams()\n",
    "        print(f'Homing Velocity: {home_params.Velocity}')\n",
    "\n",
    "        # Home device\n",
    "        print(\"Homing Motor...\")\n",
    "        device.Home(60000)  # 60 seconds\n",
    "        print(\"Motor Homed.\")\n",
    "\n",
    "        # Get/Set Velocity Params\n",
    "        device_vel_params = device.GetVelocityParams()\n",
    "\n",
    "        print(f'Acceleration: {device_vel_params.Acceleration}',\n",
    "              f'Velocity: {device_vel_params.MaxVelocity}')\n",
    "\n",
    "    #    # Set a position and move it\n",
    "    #    new_pos = Decimal(1.0)  # in Real Units\n",
    "    #   device.MoveTo(new_pos, 60000) \n",
    "        \n",
    "\n",
    "          # Stop Polling and Disconnect\n",
    "        device.StopPolling()\n",
    "        device.Disconnect()\n",
    "    except Exception as e:\n",
    "        print(e)\n",
    "    finally:\n",
    "        device.StopPolling()\n",
    "        device.Disconnect()\n",
    "\n",
    "    # Uncomment this line if you are using Simulations\n",
    "    # SimulationManager.Instance.UninitializeSimulations()\n",
    "    ..."
   ]
  },
  {
   "cell_type": "code",
   "execution_count": 3,
   "metadata": {},
   "outputs": [
    {
     "name": "stdout",
     "output_type": "stream",
     "text": [
      "KST101 Stepper Controller       v3.1          1\n",
      "Homing Velocity: 0.5\n",
      "Homing Motor...\n",
      "Motor Homed.\n",
      "Acceleration: 1 Velocity: 1.5\n"
     ]
    }
   ],
   "source": [
    "InitialiseKCube()"
   ]
  },
  {
   "cell_type": "code",
   "execution_count": 17,
   "metadata": {},
   "outputs": [],
   "source": [
    "def moveDeviceStepSize(initial_position, target_position, step_size):\n",
    "   \n",
    "    try:\n",
    "        DeviceManagerCLI.BuildDeviceList()\n",
    "\n",
    "        # create new device\n",
    "        serial_no = \"26004167\"  # Replace this line with your device's serial number\n",
    "        device = KCubeStepper.CreateKCubeStepper(serial_no)\n",
    "\n",
    "        # Connect\n",
    "        device.Connect(serial_no)\n",
    "        time.sleep(0.25)  # wait statements are important to allow settings to be sent to the device\n",
    "\n",
    "        # Start polling and enable\n",
    "        device.StartPolling(250)  #250ms polling rate\n",
    "        time.sleep(25)\n",
    "        device.EnableDevice()\n",
    "        time.sleep(0.25)  # Wait for device to enable\n",
    "\n",
    "        # Configure device#\n",
    "        use_file_settings = DeviceConfiguration.DeviceSettingsUseOptionType.UseFileSettings\n",
    "        device_config = device.LoadMotorConfiguration(device.DeviceID, use_file_settings)\n",
    "        \n",
    "        # Get homing settings\n",
    "        home_params = device.GetHomingParams()\n",
    "        print(f'Homing Velocity: {home_params.Velocity}')\n",
    "\n",
    "        # Home device\n",
    "        print(\"Homing Motor...\")\n",
    "        device.Home(60000)  # 60 seconds\n",
    "        print(\"Motor Homed.\")\n",
    "\n",
    "        # Get/Set Velocity Params\n",
    "        device_vel_params = device.GetVelocityParams()\n",
    "        print(f'Acceleration: {device_vel_params.Acceleration}',f'Velocity: {device_vel_params.MaxVelocity}')\n",
    "\n",
    "        number_of_iterations = math.floor((target_position-initial_position)/step_size) + 1 \n",
    "\n",
    "        # Set a position and move it\n",
    "        for i in range(0, number_of_iterations):\n",
    "            newpos = Decimal(initial_position + i*step_size)\n",
    "            device.MoveTo(newpos, 60000) \n",
    "            time.sleep(1)\n",
    "    \n",
    "    finally:\n",
    "        # Stop Polling and Disconnect\n",
    "        device.StopPolling()\n",
    "        device.Disconnect()\n"
   ]
  },
  {
   "cell_type": "code",
   "execution_count": 18,
   "metadata": {},
   "outputs": [
    {
     "name": "stdout",
     "output_type": "stream",
     "text": [
      "Homing Velocity: 0.5\n",
      "Homing Motor...\n",
      "Motor Homed.\n",
      "Acceleration: 1 Velocity: 1.5\n"
     ]
    }
   ],
   "source": [
    "moveDeviceStepSize(5, 6, 0.5)"
   ]
  },
  {
   "cell_type": "code",
   "execution_count": null,
   "metadata": {},
   "outputs": [],
   "source": [
    "dir(device)"
   ]
  },
  {
   "cell_type": "code",
   "execution_count": null,
   "metadata": {},
   "outputs": [],
   "source": [
    "device.SetJogStepSize(Decimal(0.00001))"
   ]
  },
  {
   "cell_type": "code",
   "execution_count": null,
   "metadata": {},
   "outputs": [],
   "source": [
    "device.Position_DeviceUnit()"
   ]
  }
 ],
 "metadata": {
  "kernelspec": {
   "display_name": "base",
   "language": "python",
   "name": "python3"
  },
  "language_info": {
   "codemirror_mode": {
    "name": "ipython",
    "version": 3
   },
   "file_extension": ".py",
   "mimetype": "text/x-python",
   "name": "python",
   "nbconvert_exporter": "python",
   "pygments_lexer": "ipython3",
   "version": "3.9.13"
  },
  "orig_nbformat": 4
 },
 "nbformat": 4,
 "nbformat_minor": 2
}
